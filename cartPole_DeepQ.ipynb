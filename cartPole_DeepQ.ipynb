{
  "nbformat": 4,
  "nbformat_minor": 0,
  "metadata": {
    "colab": {
      "name": "cartPole_DeepQ.ipynb",
      "version": "0.3.2",
      "provenance": [],
      "collapsed_sections": [],
      "include_colab_link": true
    },
    "kernelspec": {
      "name": "python3",
      "display_name": "Python 3"
    },
    "accelerator": "TPU"
  },
  "cells": [
    {
      "cell_type": "markdown",
      "metadata": {
        "id": "view-in-github",
        "colab_type": "text"
      },
      "source": [
        "<a href=\"https://colab.research.google.com/github/kitigai/RLPlactice/blob/master/cartPole_DeepQ.ipynb\" target=\"_parent\"><img src=\"https://colab.research.google.com/assets/colab-badge.svg\" alt=\"Open In Colab\"/></a>"
      ]
    },
    {
      "cell_type": "code",
      "metadata": {
        "id": "wwhbMaR976uA",
        "colab_type": "code",
        "colab": {}
      },
      "source": [
        "import gym\n",
        "import numpy as np\n",
        "import random\n",
        "import pandas\n",
        "\n",
        "from __future__ import absolute_import, division, print_function\n",
        "\n",
        "# TensorFlow and tf.keras\n",
        "import tensorflow as tf\n",
        "from tensorflow import keras"
      ],
      "execution_count": 0,
      "outputs": []
    },
    {
      "cell_type": "code",
      "metadata": {
        "id": "yqyAsp5P1Iuc",
        "colab_type": "code",
        "colab": {}
      },
      "source": [
        "\n",
        "\n",
        "class QLearn:\n",
        "    def __init__(self, actions, epsilon, alpha, gamma, iterations):\n",
        "      self.q = {}\n",
        "      self.epsilon = epsilon  # exploration constant\n",
        "      self.alpha = alpha      # discount constant\n",
        "      self.gamma = gamma      # discount factor\n",
        "      self.actions = actions\n",
        "      self.exploration_delta = epsilon / iterations\n",
        "    def defineModel(self):\n",
        "      \n",
        "      self.model = keras.Sequential([\n",
        "        keras.layers.Dense(64, activation=tf.nn.relu, input_shape=(4,)),\n",
        "        keras.layers.Dense(64, activation=tf.nn.relu),\n",
        "        keras.layers.Dense(2, activation=tf.nn.softmax)\n",
        "      ])\n",
        "      \n",
        "      self.model.compile(optimizer='adam', \n",
        "              loss='mse',\n",
        "              metrics=['accuracy'])\n",
        "      \n",
        "      \n",
        "    def getQ(self, state):\n",
        "      #print(state.shape)\n",
        "      return self.model.predict(state)\n",
        "    def learnQ(self, state, action, reward, nextState):\n",
        "      initialQ = self.getQ(state)\n",
        "      nextQ = self.getQ(state)\n",
        "      #print(action)\n",
        "      #print(initialQ.shape)\n",
        "      initialQ[0][action] = reward + self.gamma*np.amax(nextQ)\n",
        "      \n",
        "      self.model.fit(state, initialQ, verbose=0)\n",
        "      #if initialQ is None:\n",
        "      #  self.q[(state, action)] = reward\n",
        "      #else:\n",
        "      #  nextAction = self.greedyAction(nextState)\n",
        "      #  nextQ = self.getQ(nextState, nextAction)\n",
        "      #  self.q[(state, action)] = initialQ + self.alpha * ( reward + self.gamma*nextQ - initialQ)\n",
        "    def getNextAction(self, state):\n",
        "      if random.random() > self.epsilon:\n",
        "        return self.greedyAction(state)\n",
        "      else:\n",
        "        return self.randomAction()\n",
        "    def greedyAction(self, state):\n",
        "      #qInstate = [self.getQ(state, a) for a in self.actions]\n",
        "      #print(qInstate)\n",
        "      #maxQ = max(qInstate)\n",
        "      #maxQIndex = max(qInstate.items(), lambda x:x[1])[0][1]\n",
        "      #maxQIndex = self.actions[qInstate.index(maxQ)]\n",
        "      return np.argmax(self.getQ(state))\n",
        "\n",
        "    def randomAction(self):\n",
        "      return random.choice(self.actions)\n",
        "    def reduceEpsilon(self):\n",
        "      self.epsilon -= self.exploration_delta\n",
        "    \n",
        "    \n",
        "      \n"
      ],
      "execution_count": 0,
      "outputs": []
    },
    {
      "cell_type": "code",
      "metadata": {
        "id": "O_ky0g1sFghL",
        "colab_type": "code",
        "colab": {}
      },
      "source": [
        "def build_state(features):\n",
        "    return int(\"\".join(map(lambda feature: str(int(feature)), features)))\n",
        "\n",
        "def to_bin(value, bins):\n",
        "    return numpy.digitize(x=[value], bins=bins)[0]"
      ],
      "execution_count": 0,
      "outputs": []
    },
    {
      "cell_type": "code",
      "metadata": {
        "id": "oT6l2p9a2Isr",
        "colab_type": "code",
        "colab": {}
      },
      "source": [
        "env = gym.make('CartPole-v0')\n",
        "goal_average_steps = 195\n",
        "max_number_of_steps = 200\n",
        "last_time_steps = np.ndarray(0)\n",
        "n_bins = 10\n",
        "n_bins_angle = 10\n",
        "iterations = 3000\n",
        "\n",
        "number_of_features = env.observation_space.shape[0]\n",
        "last_time_steps = np.ndarray(0)\n",
        "mean_steps = np.ndarray(0)\n",
        "# Number of states is huge so in order to simplify the situatio\n",
        "# we discretize the space to: 10 ** number_of_features\n",
        "cart_position_bins = pandas.cut([-2.4, 2.4], bins=n_bins, retbins=True)[1][1:-1]\n",
        "pole_angle_bins = pandas.cut([-41.8, 41.8], bins=n_bins_angle, retbins=True)[1][1:-1]\n",
        "cart_velocity_bins = pandas.cut([-1, 1], bins=n_bins, retbins=True)[1][1:-1]\n",
        "pole_velocity_bins = pandas.cut([-3.5, 3.5], bins=n_bins_angle, retbins=True)[1][1:-1]\n",
        "\n",
        "# The Q-learn algorithm\n",
        "qlearn = QLearn(actions=range(env.action_space.n),\n",
        "                alpha=0.5, gamma=0.90, epsilon=0.1, iterations=iterations)\n",
        "qlearn.defineModel()\n",
        "for step in range(iterations):\n",
        "  observation = env.reset()\n",
        "  cart_position, cart_velocity, pole_angle, pole_velocity = observation\n",
        "\n",
        "  for t in range(max_number_of_steps):\n",
        "    #print(observation.shape)\n",
        "    old_observation = observation\n",
        "    #print(old_observation.shape)\n",
        "    action = qlearn.getNextAction(old_observation.reshape(1,len(old_observation)))\n",
        "    new_observation, reward, done, info = env.step(action)\n",
        "    #cart_position, cart_velocity, pole_angle, pole_velocity = observation\n",
        "    #nextState = build_state([to_bin(cart_position, cart_position_bins),\n",
        "     #                  to_bin(cart_velocity, cart_velocity_bins),\n",
        "      #                 to_bin(pole_angle, pole_angle_bins),\n",
        "       #                to_bin(pole_velocity, pole_velocity_bins)])\n",
        "    if not(done):\n",
        "      qlearn.learnQ(old_observation.reshape(1,len(old_observation)), action, reward, new_observation.reshape(1,len(new_observation)))\n",
        "      observation = new_observation\n",
        "    else:\n",
        "      reward = -200\n",
        "      qlearn.learnQ(old_observation.reshape(1,len(old_observation)), action , reward, new_observation.reshape(1,len(new_observation)))\n",
        "      last_time_steps = np.append(last_time_steps, [int(t + 1)])\n",
        "      break\n",
        "  \n",
        "  mean_steps = np.append(mean_steps,last_time_steps.mean())\n",
        "  last_time_steps = np.ndarray(0)\n",
        "  qlearn.reduceEpsilon()\n"
      ],
      "execution_count": 0,
      "outputs": []
    },
    {
      "cell_type": "code",
      "metadata": {
        "id": "K6Ay7m7DQuuQ",
        "colab_type": "code",
        "outputId": "62ca2394-8202-4774-f259-cdd25c27d8df",
        "colab": {
          "base_uri": "https://localhost:8080/",
          "height": 269
        }
      },
      "source": [
        "import matplotlib.pyplot as plt\n",
        "\n",
        "l = mean_steps.tolist()[0:9999:10]\n",
        "plt.plot(range(len(l)), l, \"b\", label = \"survive steps\")\n",
        "plt.show()\n",
        "\n",
        "         "
      ],
      "execution_count": 0,
      "outputs": [
        {
          "output_type": "display_data",
          "data": {
            "image/png": "[encoded data removed]",
            "text/plain": [
              "<Figure size 432x288 with 1 Axes>"
            ]
          },
          "metadata": {
            "tags": []
          }
        }
      ]
    }
  ]
}